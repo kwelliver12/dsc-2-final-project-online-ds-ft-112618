{
 "cells": [
  {
   "cell_type": "markdown",
   "metadata": {},
   "source": [
    "# Hypothesis Testing for Companies\n",
    "Businesses conduct hypothesis testing to look into different company data to find new incites and ways to improve their business. In this project we will run different hypothesis tests to see which new questions hold statistical significance. Companies can use what we find to improve their sales and business over all.\n",
    "The five questions posed are:\n",
    "        1. Do discounts have an impact on the quantity of items on orders?\n",
    "        2. Does the level of discount affect the quantity of items ordered?\n",
    "        3. Does the unit price of an object affect the level of discount?\n",
    "        4. Is the level of discount equal for the different categories?\n",
    "        5. Does the quantity of items ordered similar for each category?\n"
   ]
  },
  {
   "cell_type": "code",
   "execution_count": 95,
   "metadata": {},
   "outputs": [],
   "source": [
    "import sqlite3\n",
    "import pandas as pd\n",
    "import numpy as np\n",
    "import seaborn as sns\n",
    "import scipy.stats as stats\n",
    "import matplotlib.pyplot as plt\n",
    "import statsmodels.api as sm\n",
    "from statsmodels.formula.api import ols\n",
    "from statsmodels.stats.multicomp import pairwise_tukeyhsd\n",
    "from statsmodels.stats.multicomp import MultiComparison\n",
    "from scipy.stats import ttest_ind\n",
    "from scipy.stats import f_oneway\n",
    "%matplotlib inline"
   ]
  },
  {
   "cell_type": "code",
   "execution_count": 96,
   "metadata": {},
   "outputs": [
    {
     "name": "stdout",
     "output_type": "stream",
     "text": [
      "Opened database successfully\n"
     ]
    }
   ],
   "source": [
    "con = sqlite3.connect('Northwind_small.sqlite')\n",
    "c = con.cursor()\n",
    "print(\"Opened database successfully\")"
   ]
  },
  {
   "cell_type": "code",
   "execution_count": 97,
   "metadata": {},
   "outputs": [
    {
     "name": "stdout",
     "output_type": "stream",
     "text": [
      "('Employee',)\n",
      "('Category',)\n",
      "('Customer',)\n",
      "('Shipper',)\n",
      "('Supplier',)\n",
      "('Order',)\n",
      "('Product',)\n",
      "('OrderDetail',)\n",
      "('CustomerCustomerDemo',)\n",
      "('CustomerDemographic',)\n",
      "('Region',)\n",
      "('Territory',)\n",
      "('EmployeeTerritory',)\n",
      "('SCHOOL',)\n"
     ]
    }
   ],
   "source": [
    "for row in c.execute(\"SELECT name FROM sqlite_master WHERE type='table';\"):\n",
    "    print(row)"
   ]
  },
  {
   "cell_type": "code",
   "execution_count": 98,
   "metadata": {},
   "outputs": [],
   "source": [
    "employee_table = pd.read_sql_query(\"SELECT * FROM Employee\", con)\n",
    "category_table = pd.read_sql_query(\"SELECT * FROM Category\", con)\n",
    "customer_table = pd.read_sql_query(\"SELECT * FROM Customer\", con)\n",
    "shipper_table = pd.read_sql_query(\"SELECT * FROM Shipper\", con)\n",
    "supplier_table = pd.read_sql_query(\"SELECT * FROM Supplier\", con)\n",
    "order_table = pd.read_sql_query(\"SELECT * FROM [Order]\", con)\n",
    "product_table = pd.read_sql_query(\"SELECT * FROM Product\", con)\n",
    "orderdetail_table = pd.read_sql_query(\"SELECT * FROM OrderDetail\", con)\n",
    "customercustomerdemo_table = pd.read_sql_query(\"SELECT * FROM CustomerCustomerDemo\", con)\n",
    "customerdemographic_table = pd.read_sql_query(\"SELECT * FROM CustomerDemographic\", con)\n",
    "region_table = pd.read_sql_query(\"SELECT * FROM Region\", con)\n",
    "territory_table = pd.read_sql_query(\"SELECT * FROM Territory\", con)\n",
    "employeeterritory_table = pd.read_sql_query(\"SELECT * FROM EmployeeTerritory\", con)\n"
   ]
  },
  {
   "cell_type": "markdown",
   "metadata": {},
   "source": [
    " # Question 1: Are the mean quantities of nondiscounted orders equal to the mean quantity of discounted orders?"
   ]
  },
  {
   "cell_type": "markdown",
   "metadata": {},
   "source": [
    "## Data exploration "
   ]
  },
  {
   "cell_type": "code",
   "execution_count": 99,
   "metadata": {},
   "outputs": [
    {
     "data": {
      "text/html": [
       "<div>\n",
       "<style scoped>\n",
       "    .dataframe tbody tr th:only-of-type {\n",
       "        vertical-align: middle;\n",
       "    }\n",
       "\n",
       "    .dataframe tbody tr th {\n",
       "        vertical-align: top;\n",
       "    }\n",
       "\n",
       "    .dataframe thead th {\n",
       "        text-align: right;\n",
       "    }\n",
       "</style>\n",
       "<table border=\"1\" class=\"dataframe\">\n",
       "  <thead>\n",
       "    <tr style=\"text-align: right;\">\n",
       "      <th></th>\n",
       "      <th>Id</th>\n",
       "      <th>OrderId</th>\n",
       "      <th>ProductId</th>\n",
       "      <th>UnitPrice</th>\n",
       "      <th>Quantity</th>\n",
       "      <th>Discount</th>\n",
       "    </tr>\n",
       "  </thead>\n",
       "  <tbody>\n",
       "    <tr>\n",
       "      <th>0</th>\n",
       "      <td>10248/11</td>\n",
       "      <td>10248</td>\n",
       "      <td>11</td>\n",
       "      <td>14.0</td>\n",
       "      <td>12</td>\n",
       "      <td>0.0</td>\n",
       "    </tr>\n",
       "    <tr>\n",
       "      <th>1</th>\n",
       "      <td>10248/42</td>\n",
       "      <td>10248</td>\n",
       "      <td>42</td>\n",
       "      <td>9.8</td>\n",
       "      <td>10</td>\n",
       "      <td>0.0</td>\n",
       "    </tr>\n",
       "    <tr>\n",
       "      <th>2</th>\n",
       "      <td>10248/72</td>\n",
       "      <td>10248</td>\n",
       "      <td>72</td>\n",
       "      <td>34.8</td>\n",
       "      <td>5</td>\n",
       "      <td>0.0</td>\n",
       "    </tr>\n",
       "    <tr>\n",
       "      <th>3</th>\n",
       "      <td>10249/14</td>\n",
       "      <td>10249</td>\n",
       "      <td>14</td>\n",
       "      <td>18.6</td>\n",
       "      <td>9</td>\n",
       "      <td>0.0</td>\n",
       "    </tr>\n",
       "    <tr>\n",
       "      <th>4</th>\n",
       "      <td>10249/51</td>\n",
       "      <td>10249</td>\n",
       "      <td>51</td>\n",
       "      <td>42.4</td>\n",
       "      <td>40</td>\n",
       "      <td>0.0</td>\n",
       "    </tr>\n",
       "  </tbody>\n",
       "</table>\n",
       "</div>"
      ],
      "text/plain": [
       "         Id  OrderId  ProductId  UnitPrice  Quantity  Discount\n",
       "0  10248/11    10248         11       14.0        12       0.0\n",
       "1  10248/42    10248         42        9.8        10       0.0\n",
       "2  10248/72    10248         72       34.8         5       0.0\n",
       "3  10249/14    10249         14       18.6         9       0.0\n",
       "4  10249/51    10249         51       42.4        40       0.0"
      ]
     },
     "execution_count": 99,
     "metadata": {},
     "output_type": "execute_result"
    }
   ],
   "source": [
    "orderdetail_table.head()"
   ]
  },
  {
   "cell_type": "code",
   "execution_count": 100,
   "metadata": {},
   "outputs": [
    {
     "name": "stdout",
     "output_type": "stream",
     "text": [
      "Total number of orders discounted from 1% to 5%= 192\n",
      "Total number of orders discounted from 5% to 10%= 174\n",
      "Total number of orders discounted from 10% to 15%= 157\n",
      "Total number of orders discounted from 15% to 20%= 161\n",
      "Total number of orders discounted from 20% to 25%= 154\n",
      "Total number of orders with no discount= 1317\n",
      "Total number of orders discounted = 838\n"
     ]
    }
   ],
   "source": [
    "#breakdown the table into data sets by discount in groups of 5%. Also divided data into all discounted and nondiscounted\n",
    "discount_0_05 = pd.read_sql_query(\"SELECT * FROM orderdetail WHERE Discount BETWEEN 0.001 and .05\", con)\n",
    "print(\"Total number of orders discounted from 1% to 5%= {}\".format(len(discount_0_05)))\n",
    "discount_05_1 = pd.read_sql_query(\"SELECT * FROM orderdetail WHERE Discount BETWEEN .051 and .1\", con)\n",
    "print(\"Total number of orders discounted from 5% to 10%= {}\".format(len(discount_05_1)))\n",
    "discount_1_15 = pd.read_sql_query(\"SELECT * FROM orderdetail WHERE Discount BETWEEN .11 and .15\", con)\n",
    "print(\"Total number of orders discounted from 10% to 15%= {}\".format(len(discount_1_15)))\n",
    "discount_15_2 = pd.read_sql_query(\"SELECT * FROM orderdetail WHERE Discount BETWEEN .151 and .20\", con)\n",
    "print(\"Total number of orders discounted from 15% to 20%= {}\".format(len(discount_15_2)))\n",
    "discount_2_25 = pd.read_sql_query(\"SELECT * FROM orderdetail WHERE Discount BETWEEN .21 and .25\", con)\n",
    "print(\"Total number of orders discounted from 20% to 25%= {}\".format(len(discount_2_25)))\n",
    "\n",
    "no_discount = pd.read_sql_query(\"SELECT * FROM orderdetail WHERE Discount = 0\", con)\n",
    "print(\"Total number of orders with no discount= {}\".format(len(no_discount)))\n",
    "discounts = pd.read_sql_query(\"SELECT * FROM orderdetail WHERE Discount BETWEEN .001 and .25\", con)\n",
    "print(\"Total number of orders discounted = {}\".format(len(discounts)))\n"
   ]
  },
  {
   "cell_type": "code",
   "execution_count": 101,
   "metadata": {},
   "outputs": [
    {
     "data": {
      "image/png": "[encoded data removed]",
      "text/plain": [
       "<Figure size 576x576 with 1 Axes>"
      ]
     },
     "metadata": {
      "needs_background": "light"
     },
     "output_type": "display_data"
    }
   ],
   "source": [
    "#plot discount and no discount\n",
    "plt.figure(figsize=(8,8))\n",
    "plt.hist(discounts['Quantity'], bins=20, alpha=.25, density=True, color ='g', label=\"Discounted\")\n",
    "plt.hist(no_discount['Quantity'], bins=20, alpha=.25, density=True, color='b', label=\"Not Discounted\")\n",
    "plt.title(\"Distribution of Order Quantities\")\n",
    "plt.ylabel(\"Relative Frequency of Order Size\")\n",
    "plt.xlabel(\"Order Size\")\n",
    "plt.legend()\n",
    "plt.show()"
   ]
  },
  {
   "cell_type": "code",
   "execution_count": 102,
   "metadata": {},
   "outputs": [
    {
     "data": {
      "image/png": "[encoded data removed]",
      "text/plain": [
       "<Figure size 720x576 with 1 Axes>"
      ]
     },
     "metadata": {
      "needs_background": "light"
     },
     "output_type": "display_data"
    }
   ],
   "source": [
    "fig, ax = plt.subplots(figsize=(10,8))\n",
    "ax.boxplot([discounts['Quantity'], no_discount['Quantity']], vert=False, labels=(\"Discount\", \"No Discount\"))\n",
    "ax.set_title(\"Order Quantity: Undiscounted vs. Discounted Products\")\n",
    "ax.set_xlabel(\"Quantity - Individual Product\")\n",
    "plt.grid(False)\n",
    "plt.show()"
   ]
  },
  {
   "cell_type": "markdown",
   "metadata": {},
   "source": [
    "### $H0: \\mu_0 = \\mu_1$\n",
    "### $HA: \\mu_0 \\neq \\mu_1$"
   ]
  },
  {
   "cell_type": "code",
   "execution_count": 103,
   "metadata": {},
   "outputs": [
    {
     "name": "stdout",
     "output_type": "stream",
     "text": [
      "LeveneResult(statistic=7.598798646837281, pvalue=0.005911146478108135)\n",
      "LeveneResult(statistic=1.9602714878584622, pvalue=0.1616926093213866)\n",
      "LeveneResult(statistic=6.621394134971047, pvalue=0.010173258822969699)\n",
      "LeveneResult(statistic=4.2893069280815554, pvalue=0.038526244167615964)\n",
      "LeveneResult(statistic=4.191961687777951, pvalue=0.04079361481086336)\n",
      "LeveneResult(statistic=14.832671704073421, pvalue=0.00012091378376079568)\n"
     ]
    }
   ],
   "source": [
    "#using the levene test to test if there is a significance \n",
    "#p is less then .05 so we reject the null hypothesis and cant use ANOVA\n",
    "print(stats.levene(no_discount['Quantity'], discount_0_05['Quantity']))\n",
    "print(stats.levene(no_discount['Quantity'], discount_05_1['Quantity']))\n",
    "print(stats.levene(no_discount['Quantity'], discount_1_15['Quantity']))\n",
    "print(stats.levene(no_discount['Quantity'], discount_15_2['Quantity']))\n",
    "print(stats.levene(no_discount['Quantity'], discount_2_25['Quantity']))\n",
    "\n",
    "print(stats.levene(no_discount['Quantity'], discounts['Quantity']))"
   ]
  },
  {
   "cell_type": "markdown",
   "metadata": {},
   "source": [
    "Above we tested the variance and got all but one pvalue to be less than .05, which means the variance is not equal throughout. Since the variance is not equal we will use a Welch Test to find statistical significance. "
   ]
  },
  {
   "cell_type": "code",
   "execution_count": 104,
   "metadata": {},
   "outputs": [
    {
     "name": "stdout",
     "output_type": "stream",
     "text": [
      "\n",
      " Welch's t-test= -6.2391 \n",
      " p-value = 0.0000000005656414 \n",
      " Welch-Satterthwaite Degrees of Freedom= 1561.7678\n"
     ]
    }
   ],
   "source": [
    "# Levene test has a p value less than .05, meaning the variance is not equal. We must do the welch test\n",
    "def welch_ttest(x, y): \n",
    "    ## Welch-Satterthwaite Degrees of Freedom ##\n",
    "    dof = (x.var()/x.size + y.var()/y.size)**2 / ((x.var()/x.size)**2 / (x.size-1) + (y.var()/y.size)**2 / (y.size-1))\n",
    "   \n",
    "    t, p = stats.ttest_ind(x, y, equal_var = False)\n",
    "    \n",
    "    print(\"\\n\",\n",
    "          f\"Welch's t-test= {t:.4f}\", \"\\n\",\n",
    "          f\"p-value = {p:.16f}\", \"\\n\",\n",
    "          f\"Welch-Satterthwaite Degrees of Freedom= {dof:.4f}\")\n",
    "\n",
    "welch_ttest(no_discount['Quantity'], discounts['Quantity'])\n",
    "\n"
   ]
  },
  {
   "cell_type": "markdown",
   "metadata": {},
   "source": [
    "## Conclusion "
   ]
  },
  {
   "cell_type": "markdown",
   "metadata": {},
   "source": [
    "P value is less than .05, **which means we reject the null hypothesis**. This means that the mean quantity of non discounted orders does not equal the mean quantity of disocunted orders. This makes sense because we would assume that an item having a discount would effect the quantity of items a customer purchases."
   ]
  },
  {
   "cell_type": "markdown",
   "metadata": {},
   "source": [
    "# Question 2: Does the level of discount affect the quantity of items ordered?"
   ]
  },
  {
   "cell_type": "markdown",
   "metadata": {},
   "source": [
    "### $H0: \\mu_0 = \\mu_1$\n",
    "### $HA: \\mu_0 \\neq \\mu_1$"
   ]
  },
  {
   "cell_type": "code",
   "execution_count": 105,
   "metadata": {},
   "outputs": [
    {
     "name": "stdout",
     "output_type": "stream",
     "text": [
      "21.715261958997722\n",
      "27.052083333333332\n",
      "25.103448275862068\n",
      "28.38216560509554\n",
      "27.024844720496894\n",
      "28.24025974025974\n"
     ]
    }
   ],
   "source": [
    "#mean quantity of orders for the different levels of discount \n",
    "print(np.mean(no_discount['Quantity']))\n",
    "print(np.mean(discount_0_05['Quantity']))\n",
    "print(np.mean(discount_05_1['Quantity']))\n",
    "print(np.mean(discount_1_15['Quantity']))\n",
    "print(np.mean(discount_15_2['Quantity']))\n",
    "print(np.mean(discount_2_25['Quantity']))"
   ]
  },
  {
   "cell_type": "markdown",
   "metadata": {},
   "source": [
    "We will run an ANOVA test to compare all the discounted values at once to see if one discount value is more significant than the other. To run the ANOVA test, we are using a random sample of 100 from each discount group. We did this because the non discounted group is so much larger we did not want it to scew the results."
   ]
  },
  {
   "cell_type": "code",
   "execution_count": 106,
   "metadata": {},
   "outputs": [
    {
     "data": {
      "image/png": "[encoded data removed]",
      "text/plain": [
       "<Figure size 576x576 with 1 Axes>"
      ]
     },
     "metadata": {
      "needs_background": "light"
     },
     "output_type": "display_data"
    }
   ],
   "source": [
    "plt.figure(figsize=(8,8))\n",
    "plt.hist(discount_0_05['Quantity'], bins=20, alpha=.25, density=True, color ='red', label=\"Discount 5%\")\n",
    "plt.hist(discount_05_1['Quantity'], bins=20, alpha=.25, density=True, color ='orange', label=\"Discount 10%\")\n",
    "plt.hist(discount_1_15['Quantity'], bins=20, alpha=.25, density=True, color ='yellow', label=\"Discount 15%\")\n",
    "plt.hist(discount_15_2['Quantity'], bins=20, alpha=.25, density=True, color ='green', label=\"Discount 20%\")\n",
    "plt.hist(discount_2_25['Quantity'], bins=20, alpha=.25, density=True, color ='blue', label=\"Discount 25%\")\n",
    "plt.hist(no_discount['Quantity'], bins=20, alpha=.2, density=True, color='purple', label=\"Not Discounts\")\n",
    "plt.title(\"Distribution of Order Quantities\")\n",
    "plt.ylabel(\"Relative Frequency of Order Size\")\n",
    "plt.xlabel(\"Order Size\")\n",
    "plt.legend()\n",
    "plt.show()"
   ]
  },
  {
   "cell_type": "code",
   "execution_count": 107,
   "metadata": {},
   "outputs": [
    {
     "data": {
      "image/png": "[encoded data removed]",
      "text/plain": [
       "<Figure size 576x432 with 1 Axes>"
      ]
     },
     "metadata": {
      "needs_background": "light"
     },
     "output_type": "display_data"
    }
   ],
   "source": [
    "fig, ax = plt.subplots(figsize=(8,6))\n",
    "ax.boxplot([discount_0_05['Quantity'], discount_05_1['Quantity'], discount_1_15['Quantity'], \n",
    "            discount_15_2['Quantity'], discount_2_25['Quantity']], vert=False, labels=(\"Discount 5%\", \n",
    "            \"Discount 5%-10%\", \"Discount 10%-15%\", \"Discount 15%-20%\", \"Discount 20%-25%\"))\n",
    "ax.set_title(\"Order Quantity: Undiscounted vs. Discounted Products\")\n",
    "ax.set_xlabel(\"Quantity - Individual Product\")\n",
    "plt.grid(False)\n",
    "plt.show()"
   ]
  },
  {
   "cell_type": "code",
   "execution_count": 111,
   "metadata": {},
   "outputs": [],
   "source": [
    "#make random data set of 100 values for each discount to make sure the number of values is equal\n",
    "d0 = np.random.choice(no_discount['Quantity'], size=100)\n",
    "d05 = np.random.choice(discount_0_05['Quantity'], size=100)\n",
    "d1 = np.random.choice(discount_05_1['Quantity'],size=100)\n",
    "d15 = np.random.choice(discount_1_15['Quantity'],size=100)\n",
    "d2 = np.random.choice(discount_15_2['Quantity'],size=100)\n",
    "d25 = np.random.choice(discount_2_25['Quantity'],size=100)"
   ]
  },
  {
   "cell_type": "markdown",
   "metadata": {},
   "source": [
    "# DO A TUKEY TEST"
   ]
  },
  {
   "cell_type": "code",
   "execution_count": 112,
   "metadata": {},
   "outputs": [
    {
     "name": "stdout",
     "output_type": "stream",
     "text": [
      "Multiple Comparison of Means - Tukey HSD,FWER=0.05\n",
      "==================================================\n",
      " group1  group2 meandiff   lower    upper   reject\n",
      "--------------------------------------------------\n",
      "10%-15% 15%-20%  9.3333  -126.8075 145.4742 False \n",
      "10%-15% 20%-25% -26.6667 -162.8075 109.4742 False \n",
      "15%-20% 20%-25%  -36.0   -202.7378 130.7378 False \n",
      "--------------------------------------------------\n"
     ]
    }
   ],
   "source": [
    "D = [d05, d1, d15, d2, d25]\n",
    "l = ['5% discount', '5%-10%', '10%-15%', '15%-20%', '20%-25%']\n",
    "tukey_results = pairwise_tukeyhsd(D, l, 0.05)\n",
    "print(tukey_results)"
   ]
  },
  {
   "cell_type": "markdown",
   "metadata": {},
   "source": [
    "## Conclusion"
   ]
  },
  {
   "cell_type": "markdown",
   "metadata": {},
   "source": [
    "The P value is greater than .05 so **we accept the null hypothesis**. This means that the mean quantity of items ordered is the same throughout the different levels of discount. Meaning higher discounted items are not necessarily ordered more than items with a small discount. "
   ]
  },
  {
   "cell_type": "markdown",
   "metadata": {},
   "source": [
    "# Question 3: Does the unit price of an object affect the level of discount?"
   ]
  },
  {
   "cell_type": "markdown",
   "metadata": {},
   "source": [
    "### $H0: \\mu_0 = \\mu_1$\n",
    "### $HA: \\mu_0 \\neq \\mu_1$"
   ]
  },
  {
   "cell_type": "code",
   "execution_count": 113,
   "metadata": {},
   "outputs": [
    {
     "name": "stdout",
     "output_type": "stream",
     "text": [
      "Total number of items order where Unit Price ranges from 0 to 50= 1992\n",
      "Total number of items order where Unit Price ranges from 50 to 100= 117\n",
      "Total number of items order where Unit Price ranges from 100 to 150= 22\n",
      "Total number of items order where Unit Price ranges from 150 to 200= 0\n",
      "Total number of items order where Unit Price ranges from 200 to 250= 8\n",
      "Total number of items order where Unit Price ranges from 250 to 300= 16\n"
     ]
    }
   ],
   "source": [
    "price_0_50 = pd.read_sql_query(\"SELECT * FROM orderdetail WHERE UnitPrice BETWEEN 0 and 50\", con)\n",
    "print(\"Total number of items order where Unit Price ranges from 0 to 50= {}\".format(len(price_0_50)))\n",
    "price_50_100 = pd.read_sql_query(\"SELECT * FROM orderdetail WHERE UnitPrice BETWEEN 50.01 and 100\", con)\n",
    "print(\"Total number of items order where Unit Price ranges from 50 to 100= {}\".format(len(price_50_100)))\n",
    "price_100_150 = pd.read_sql_query(\"SELECT * FROM orderdetail WHERE UnitPrice BETWEEN 100.01 and 150\", con)\n",
    "print(\"Total number of items order where Unit Price ranges from 100 to 150= {}\".format(len(price_100_150)))\n",
    "price_150_200 = pd.read_sql_query(\"SELECT * FROM orderdetail WHERE UnitPrice BETWEEN 150.01 and 200\", con)\n",
    "print(\"Total number of items order where Unit Price ranges from 150 to 200= {}\".format(len(price_150_200)))\n",
    "price_200_250 = pd.read_sql_query(\"SELECT * FROM orderdetail WHERE UnitPrice BETWEEN 200.01 and 250\", con)\n",
    "print(\"Total number of items order where Unit Price ranges from 200 to 250= {}\".format(len(price_200_250)))\n",
    "price_250_300 = pd.read_sql_query(\"SELECT * FROM orderdetail WHERE UnitPrice BETWEEN 250.01 and 300\", con)\n",
    "print(\"Total number of items order where Unit Price ranges from 250 to 300= {}\".format(len(price_250_300)))"
   ]
  },
  {
   "cell_type": "code",
   "execution_count": 114,
   "metadata": {},
   "outputs": [
    {
     "name": "stderr",
     "output_type": "stream",
     "text": [
      "/anaconda3/lib/python3.7/site-packages/numpy/lib/histograms.py:815: RuntimeWarning: invalid value encountered in true_divide\n",
      "  return n/db/n.sum(), bin_edges\n"
     ]
    },
    {
     "data": {
      "image/png": "[encoded data removed]",
      "text/plain": [
       "<Figure size 576x576 with 1 Axes>"
      ]
     },
     "metadata": {
      "needs_background": "light"
     },
     "output_type": "display_data"
    }
   ],
   "source": [
    "plt.figure(figsize=(8,8))\n",
    "plt.hist(price_0_50['Discount'], bins=20, alpha=.25, density=True, color ='red', label=\"Price up to 50\")\n",
    "plt.hist(price_50_100['Discount'], bins=20, alpha=.25, density=True, color ='orange', label=\"Prices 50-100\")\n",
    "plt.hist(price_100_150['Discount'], bins=20, alpha=.25, density=True, color ='yellow', label=\"Prices 100-150\")\n",
    "plt.hist(price_150_200['Discount'], bins=20, alpha=.25, density=True, color ='green', label=\"Prices 150-200\")\n",
    "plt.hist(price_200_250['Discount'], bins=20, alpha=.25, density=True, color ='blue', label=\"Prices 200-250\")\n",
    "plt.hist(price_250_300['Discount'], bins=20, alpha=.2, density=True, color='purple', label=\"Prices 250-300\")\n",
    "plt.title(\"Distribution of Units ordered at varying Discount Levels\")\n",
    "plt.ylabel(\"Units Order per Price Range\")\n",
    "plt.xlabel(\"Discount\")\n",
    "plt.legend()\n",
    "plt.show()"
   ]
  },
  {
   "cell_type": "code",
   "execution_count": 115,
   "metadata": {},
   "outputs": [
    {
     "data": {
      "image/png": "[encoded data removed]",
      "text/plain": [
       "<Figure size 576x432 with 1 Axes>"
      ]
     },
     "metadata": {
      "needs_background": "light"
     },
     "output_type": "display_data"
    }
   ],
   "source": [
    "fig, ax = plt.subplots(figsize=(8,6))\n",
    "ax.boxplot([price_0_50['Discount'], price_50_100['Discount'], price_100_150['Discount'], price_150_200['Discount'],\n",
    "            price_200_250['Discount'], price_250_300['Discount']], vert=False, labels=(\"Price 0-50\", \n",
    "            \"Price 50-100\", \"Price 100-150\", \"Price 150-200\", \"Price 200-250\", \"Price 250-300\"))\n",
    "ax.set_title(\"Order Quantity: Unit Price and Discounts\")\n",
    "ax.set_xlabel(\"Level of Discount\")\n",
    "plt.grid(False)\n",
    "plt.show()"
   ]
  },
  {
   "cell_type": "code",
   "execution_count": 116,
   "metadata": {},
   "outputs": [
    {
     "name": "stdout",
     "output_type": "stream",
     "text": [
      "LeveneResult(statistic=1.2572042994778685, pvalue=0.2847133860905552)\n"
     ]
    }
   ],
   "source": [
    "#check variance\n",
    "print(stats.levene(price_0_50['Discount'], price_50_100['Discount'], price_100_150['Discount'], \n",
    "                    price_200_250['Discount'], price_250_300['Discount']))"
   ]
  },
  {
   "cell_type": "markdown",
   "metadata": {},
   "source": [
    "Used the Levene Test to check variance. The p value is greater than .05 so we can use the ANOVA test to check statistical significance."
   ]
  },
  {
   "cell_type": "code",
   "execution_count": 117,
   "metadata": {},
   "outputs": [
    {
     "data": {
      "text/plain": [
       "0.2058050087140513"
      ]
     },
     "execution_count": 117,
     "metadata": {},
     "output_type": "execute_result"
    }
   ],
   "source": [
    "fstat, pval = stats.f_oneway(price_0_50['Discount'], price_50_100['Discount'], price_100_150['Discount'], \n",
    "                                price_200_250['Discount'], price_250_300['Discount'])\n",
    "\n",
    "pval"
   ]
  },
  {
   "cell_type": "markdown",
   "metadata": {},
   "source": [
    "## Conclusion"
   ]
  },
  {
   "cell_type": "markdown",
   "metadata": {},
   "source": [
    "The p value is greater than .05 so **we accept the null hypothesis**, this shows that the level of discount does not change depending on unit price of an item. Maybe if the discount was greater for more expensive items there would be an increase in orders. "
   ]
  },
  {
   "cell_type": "markdown",
   "metadata": {},
   "source": [
    "# Question 4: Is the level of discount equal for the different categories?"
   ]
  },
  {
   "cell_type": "markdown",
   "metadata": {},
   "source": [
    "### $H0: \\mu_0 = \\mu_1$\n",
    "### $HA: \\mu_0 \\neq \\mu_1$"
   ]
  },
  {
   "cell_type": "markdown",
   "metadata": {},
   "source": [
    "To run this test we firts need to join the order details and product tables to compare category ID and discount."
   ]
  },
  {
   "cell_type": "code",
   "execution_count": 118,
   "metadata": {},
   "outputs": [
    {
     "data": {
      "text/html": [
       "<div>\n",
       "<style scoped>\n",
       "    .dataframe tbody tr th:only-of-type {\n",
       "        vertical-align: middle;\n",
       "    }\n",
       "\n",
       "    .dataframe tbody tr th {\n",
       "        vertical-align: top;\n",
       "    }\n",
       "\n",
       "    .dataframe thead th {\n",
       "        text-align: right;\n",
       "    }\n",
       "</style>\n",
       "<table border=\"1\" class=\"dataframe\">\n",
       "  <thead>\n",
       "    <tr style=\"text-align: right;\">\n",
       "      <th></th>\n",
       "      <th>Id</th>\n",
       "      <th>ProductName</th>\n",
       "      <th>SupplierId</th>\n",
       "      <th>CategoryId</th>\n",
       "      <th>QuantityPerUnit</th>\n",
       "      <th>UnitPrice</th>\n",
       "      <th>UnitsInStock</th>\n",
       "      <th>UnitsOnOrder</th>\n",
       "      <th>ReorderLevel</th>\n",
       "      <th>Discontinued</th>\n",
       "    </tr>\n",
       "  </thead>\n",
       "  <tbody>\n",
       "    <tr>\n",
       "      <th>0</th>\n",
       "      <td>1</td>\n",
       "      <td>Chai</td>\n",
       "      <td>1</td>\n",
       "      <td>1</td>\n",
       "      <td>10 boxes x 20 bags</td>\n",
       "      <td>18.0</td>\n",
       "      <td>39</td>\n",
       "      <td>0</td>\n",
       "      <td>10</td>\n",
       "      <td>0</td>\n",
       "    </tr>\n",
       "  </tbody>\n",
       "</table>\n",
       "</div>"
      ],
      "text/plain": [
       "   Id ProductName  SupplierId  CategoryId     QuantityPerUnit  UnitPrice  \\\n",
       "0   1        Chai           1           1  10 boxes x 20 bags       18.0   \n",
       "\n",
       "   UnitsInStock  UnitsOnOrder  ReorderLevel  Discontinued  \n",
       "0            39             0            10             0  "
      ]
     },
     "execution_count": 118,
     "metadata": {},
     "output_type": "execute_result"
    }
   ],
   "source": [
    "product_table.head(1)"
   ]
  },
  {
   "cell_type": "code",
   "execution_count": 119,
   "metadata": {},
   "outputs": [
    {
     "data": {
      "text/html": [
       "<div>\n",
       "<style scoped>\n",
       "    .dataframe tbody tr th:only-of-type {\n",
       "        vertical-align: middle;\n",
       "    }\n",
       "\n",
       "    .dataframe tbody tr th {\n",
       "        vertical-align: top;\n",
       "    }\n",
       "\n",
       "    .dataframe thead th {\n",
       "        text-align: right;\n",
       "    }\n",
       "</style>\n",
       "<table border=\"1\" class=\"dataframe\">\n",
       "  <thead>\n",
       "    <tr style=\"text-align: right;\">\n",
       "      <th></th>\n",
       "      <th>Id</th>\n",
       "      <th>OrderId</th>\n",
       "      <th>ProductId</th>\n",
       "      <th>UnitPrice</th>\n",
       "      <th>Quantity</th>\n",
       "      <th>Discount</th>\n",
       "    </tr>\n",
       "  </thead>\n",
       "  <tbody>\n",
       "    <tr>\n",
       "      <th>0</th>\n",
       "      <td>10248/11</td>\n",
       "      <td>10248</td>\n",
       "      <td>11</td>\n",
       "      <td>14.0</td>\n",
       "      <td>12</td>\n",
       "      <td>0.0</td>\n",
       "    </tr>\n",
       "  </tbody>\n",
       "</table>\n",
       "</div>"
      ],
      "text/plain": [
       "         Id  OrderId  ProductId  UnitPrice  Quantity  Discount\n",
       "0  10248/11    10248         11       14.0        12       0.0"
      ]
     },
     "execution_count": 119,
     "metadata": {},
     "output_type": "execute_result"
    }
   ],
   "source": [
    "orderdetail_table.head(1)"
   ]
  },
  {
   "cell_type": "code",
   "execution_count": 120,
   "metadata": {},
   "outputs": [],
   "source": [
    "join_query = \"\"\"SELECT OrderDetail.ProductId, CategoryId, Quantity, Discount\n",
    "FROM orderdetail\n",
    "JOIN product \n",
    "ON orderdetail.ProductId = Product.Id\"\"\""
   ]
  },
  {
   "cell_type": "code",
   "execution_count": 121,
   "metadata": {},
   "outputs": [
    {
     "data": {
      "text/plain": [
       "'SELECT OrderDetail.ProductId, CategoryId, Quantity, Discount\\nFROM orderdetail\\nJOIN product \\nON orderdetail.ProductId = Product.Id'"
      ]
     },
     "execution_count": 121,
     "metadata": {},
     "output_type": "execute_result"
    }
   ],
   "source": [
    "join_query"
   ]
  },
  {
   "cell_type": "code",
   "execution_count": 122,
   "metadata": {},
   "outputs": [
    {
     "data": {
      "text/html": [
       "<div>\n",
       "<style scoped>\n",
       "    .dataframe tbody tr th:only-of-type {\n",
       "        vertical-align: middle;\n",
       "    }\n",
       "\n",
       "    .dataframe tbody tr th {\n",
       "        vertical-align: top;\n",
       "    }\n",
       "\n",
       "    .dataframe thead th {\n",
       "        text-align: right;\n",
       "    }\n",
       "</style>\n",
       "<table border=\"1\" class=\"dataframe\">\n",
       "  <thead>\n",
       "    <tr style=\"text-align: right;\">\n",
       "      <th></th>\n",
       "      <th>ProductId</th>\n",
       "      <th>CategoryId</th>\n",
       "      <th>Quantity</th>\n",
       "      <th>Discount</th>\n",
       "    </tr>\n",
       "  </thead>\n",
       "  <tbody>\n",
       "    <tr>\n",
       "      <th>0</th>\n",
       "      <td>11</td>\n",
       "      <td>4</td>\n",
       "      <td>12</td>\n",
       "      <td>0.0</td>\n",
       "    </tr>\n",
       "    <tr>\n",
       "      <th>1</th>\n",
       "      <td>42</td>\n",
       "      <td>5</td>\n",
       "      <td>10</td>\n",
       "      <td>0.0</td>\n",
       "    </tr>\n",
       "    <tr>\n",
       "      <th>2</th>\n",
       "      <td>72</td>\n",
       "      <td>4</td>\n",
       "      <td>5</td>\n",
       "      <td>0.0</td>\n",
       "    </tr>\n",
       "    <tr>\n",
       "      <th>3</th>\n",
       "      <td>14</td>\n",
       "      <td>7</td>\n",
       "      <td>9</td>\n",
       "      <td>0.0</td>\n",
       "    </tr>\n",
       "    <tr>\n",
       "      <th>4</th>\n",
       "      <td>51</td>\n",
       "      <td>7</td>\n",
       "      <td>40</td>\n",
       "      <td>0.0</td>\n",
       "    </tr>\n",
       "  </tbody>\n",
       "</table>\n",
       "</div>"
      ],
      "text/plain": [
       "   ProductId  CategoryId  Quantity  Discount\n",
       "0         11           4        12       0.0\n",
       "1         42           5        10       0.0\n",
       "2         72           4         5       0.0\n",
       "3         14           7         9       0.0\n",
       "4         51           7        40       0.0"
      ]
     },
     "execution_count": 122,
     "metadata": {},
     "output_type": "execute_result"
    }
   ],
   "source": [
    "odpdf = pd.read_sql_query(join_query, con)\n",
    "odpdf.head()"
   ]
  },
  {
   "cell_type": "code",
   "execution_count": 123,
   "metadata": {},
   "outputs": [],
   "source": [
    "cat_1 = odpdf.loc[odpdf.CategoryId == 1]\n",
    "cat_2 = odpdf.loc[odpdf.CategoryId == 2]\n",
    "cat_3 = odpdf.loc[odpdf.CategoryId == 3]\n",
    "cat_4 = odpdf.loc[odpdf.CategoryId == 4]\n",
    "cat_5 = odpdf.loc[odpdf.CategoryId == 5]\n",
    "cat_6 = odpdf.loc[odpdf.CategoryId == 6]\n",
    "cat_7 = odpdf.loc[odpdf.CategoryId == 7]\n",
    "cat_8 = odpdf.loc[odpdf.CategoryId == 8]"
   ]
  },
  {
   "cell_type": "code",
   "execution_count": 124,
   "metadata": {},
   "outputs": [
    {
     "data": {
      "image/png": "[encoded data removed]",
      "text/plain": [
       "<Figure size 576x576 with 1 Axes>"
      ]
     },
     "metadata": {
      "needs_background": "light"
     },
     "output_type": "display_data"
    }
   ],
   "source": [
    "plt.figure(figsize=(8,8))\n",
    "plt.hist(cat_1['Discount'], bins=20, alpha=.25, density=True, color ='red', label=\"Category 1\")\n",
    "plt.hist(cat_2['Discount'], bins=20, alpha=.25, density=True, color ='orange', label=\"Category 2\")\n",
    "plt.hist(cat_3['Discount'], bins=20, alpha=.25, density=True, color ='yellow', label=\"Category 3\")\n",
    "plt.hist(cat_4['Discount'], bins=20, alpha=.25, density=True, color ='green', label=\"Category 4\")\n",
    "plt.hist(cat_5['Discount'], bins=20, alpha=.25, density=True, color ='blue', label=\"Category 5\")\n",
    "plt.hist(cat_6['Discount'], bins=20, alpha=.25, density=True, color ='cyan', label=\"Category 6\")\n",
    "plt.hist(cat_7['Discount'], bins=20, alpha=.25, density=True, color ='purple', label=\"Category 7\")\n",
    "plt.hist(cat_8['Discount'], bins=20, alpha=.25, density=True, color ='pink', label=\"Category 8\")\n",
    "plt.title(\"Distribution of Units ordered at varying Discount Levels\")\n",
    "plt.ylabel(\"Units Order per Price Range\")\n",
    "plt.xlabel(\"Discount\")\n",
    "plt.legend()\n",
    "plt.show()"
   ]
  },
  {
   "cell_type": "code",
   "execution_count": 125,
   "metadata": {},
   "outputs": [
    {
     "data": {
      "image/png": "[encoded data removed]",
      "text/plain": [
       "<Figure size 576x432 with 1 Axes>"
      ]
     },
     "metadata": {
      "needs_background": "light"
     },
     "output_type": "display_data"
    }
   ],
   "source": [
    "fig, ax = plt.subplots(figsize=(8,6))\n",
    "ax.boxplot([cat_1['Discount'], cat_2['Discount'], cat_3['Discount'], cat_4['Discount'],\n",
    "            cat_5['Discount'], cat_6['Discount'], cat_7['Discount'], cat_8['Discount']], \n",
    "           vert=False, labels=(\"Category 1\", \"Category 2\", \"Category 3\", \"Category 4\", \n",
    "                               \"Category 5\", \"Category 6\", \"Category 7\", \"Category 8\"))\n",
    "ax.set_title(\"Discounts of items across Categories\")\n",
    "ax.set_xlabel(\"Level of Discount\")\n",
    "plt.grid(False)\n",
    "plt.show()"
   ]
  },
  {
   "cell_type": "code",
   "execution_count": 126,
   "metadata": {},
   "outputs": [
    {
     "name": "stdout",
     "output_type": "stream",
     "text": [
      "LeveneResult(statistic=1.5660052505513309, pvalue=0.21090257118992378)\n",
      "LeveneResult(statistic=0.3549647724802563, pvalue=0.5513729733391813)\n",
      "LeveneResult(statistic=0.025213163313157674, pvalue=0.8738499511136031)\n",
      "LeveneResult(statistic=0.3364112030845873, pvalue=0.5619599787663906)\n",
      "LeveneResult(statistic=3.074559184428751, pvalue=0.07965656988510599)\n",
      "LeveneResult(statistic=1.5629717036461663, pvalue=0.21135639631791997)\n",
      "LeveneResult(statistic=2.131745439316921, pvalue=0.14441361428607608)\n",
      "LeveneResult(statistic=0.6770651777384927, pvalue=0.4106781698678509)\n"
     ]
    }
   ],
   "source": [
    "#levene test for variance\n",
    "print(stats.levene(cat_1['Discount'], odpdf['Discount']))\n",
    "print(stats.levene(cat_2['Discount'], odpdf['Discount']))\n",
    "print(stats.levene(cat_3['Discount'], odpdf['Discount']))\n",
    "print(stats.levene(cat_4['Discount'], odpdf['Discount']))\n",
    "print(stats.levene(cat_5['Discount'], odpdf['Discount']))\n",
    "print(stats.levene(cat_6['Discount'], odpdf['Discount']))\n",
    "print(stats.levene(cat_7['Discount'], odpdf['Discount']))\n",
    "print(stats.levene(cat_8['Discount'], odpdf['Discount']))"
   ]
  },
  {
   "cell_type": "markdown",
   "metadata": {},
   "source": [
    "The p value is greater than .05 so we can assume equal variance. We will proceed by using the ANOVA test to test stitical significance. "
   ]
  },
  {
   "cell_type": "code",
   "execution_count": 127,
   "metadata": {},
   "outputs": [
    {
     "data": {
      "text/plain": [
       "0.14932558623997566"
      ]
     },
     "execution_count": 127,
     "metadata": {},
     "output_type": "execute_result"
    }
   ],
   "source": [
    "fstat, pval = stats.f_oneway(cat_1['Discount'], cat_2['Discount'], cat_3['Discount'], \n",
    "                                cat_4['Discount'], cat_5['Discount'], cat_6['Discount'],\n",
    "                            cat_7['Discount'], cat_8['Discount'])\n",
    "\n",
    "pval\n",
    "\n"
   ]
  },
  {
   "cell_type": "markdown",
   "metadata": {},
   "source": [
    "## Conclusion"
   ]
  },
  {
   "cell_type": "markdown",
   "metadata": {},
   "source": [
    "The pvalue is greater than .05 so we **accept the null hypothesis**. This means we can assume the mean discount for each category is similar, meaning the category of items does not influence discounts. We can use this information to see if changing the discounts for certain categories can increase quantity in orders. "
   ]
  },
  {
   "cell_type": "markdown",
   "metadata": {},
   "source": [
    "# Question 5: Does the quantity of items ordered similar for each category?"
   ]
  },
  {
   "cell_type": "markdown",
   "metadata": {},
   "source": [
    "### $H0: \\mu_0 = \\mu_1$\n",
    "### $HA: \\mu_0 \\neq \\mu_1$"
   ]
  },
  {
   "cell_type": "code",
   "execution_count": 128,
   "metadata": {},
   "outputs": [
    {
     "name": "stdout",
     "output_type": "stream",
     "text": [
      "LeveneResult(statistic=0.009848071775278997, pvalue=0.9209575185817495)\n",
      "LeveneResult(statistic=0.04241228423250917, pvalue=0.836853577549603)\n",
      "LeveneResult(statistic=0.15747281627033324, pvalue=0.6915280203518689)\n",
      "LeveneResult(statistic=0.4978733557188787, pvalue=0.480501288733321)\n",
      "LeveneResult(statistic=0.5788360158489891, pvalue=0.44684529034520126)\n",
      "LeveneResult(statistic=1.3071043218749905, pvalue=0.25303725817201894)\n",
      "LeveneResult(statistic=0.38228878918434794, pvalue=0.536442368692101)\n",
      "LeveneResult(statistic=0.08724598699158045, pvalue=0.7677326472768746)\n"
     ]
    }
   ],
   "source": [
    "#test variance\n",
    "print(stats.levene(cat_1['Quantity'], odpdf['Quantity']))\n",
    "print(stats.levene(cat_2['Quantity'], odpdf['Quantity']))\n",
    "print(stats.levene(cat_3['Quantity'], odpdf['Quantity']))\n",
    "print(stats.levene(cat_4['Quantity'], odpdf['Quantity']))\n",
    "print(stats.levene(cat_5['Quantity'], odpdf['Quantity']))\n",
    "print(stats.levene(cat_6['Quantity'], odpdf['Quantity']))\n",
    "print(stats.levene(cat_7['Quantity'], odpdf['Quantity']))\n",
    "print(stats.levene(cat_8['Quantity'], odpdf['Quantity']))"
   ]
  },
  {
   "cell_type": "markdown",
   "metadata": {},
   "source": [
    "The p value is greater than .05 so we can assume equal variance. We will proceed by using the ANOVA test to test stitical significance. "
   ]
  },
  {
   "cell_type": "code",
   "execution_count": 129,
   "metadata": {},
   "outputs": [
    {
     "data": {
      "text/plain": [
       "0.8280581155634347"
      ]
     },
     "execution_count": 129,
     "metadata": {},
     "output_type": "execute_result"
    }
   ],
   "source": [
    "fstat, pval = stats.f_oneway(cat_1['Quantity'], cat_2['Quantity'], cat_3['Quantity'], \n",
    "                                cat_4['Quantity'], cat_5['Quantity'], cat_6['Quantity'],\n",
    "                            cat_7['Quantity'], cat_8['Quantity'])\n",
    "\n",
    "pval\n"
   ]
  },
  {
   "cell_type": "markdown",
   "metadata": {},
   "source": [
    "## Conclusion"
   ]
  },
  {
   "cell_type": "markdown",
   "metadata": {},
   "source": [
    "The pvalue is greater than .05 so **we accept the null hypothesis** meaning we can assume the mean quantity ordered for each category is similar, meaning the category of items does not influence the amount ordered. We can use this information to see if there is a reason customers aren't ordering more of a certain category vs others, i.e. nonperishable items vs produce, dairy products, etc."
   ]
  },
  {
   "cell_type": "code",
   "execution_count": null,
   "metadata": {},
   "outputs": [],
   "source": []
  }
 ],
 "metadata": {
  "kernelspec": {
   "display_name": "Python 3",
   "language": "python",
   "name": "python3"
  },
  "language_info": {
   "codemirror_mode": {
    "name": "ipython",
    "version": 3
   },
   "file_extension": ".py",
   "mimetype": "text/x-python",
   "name": "python",
   "nbconvert_exporter": "python",
   "pygments_lexer": "ipython3",
   "version": "3.7.0"
  }
 },
 "nbformat": 4,
 "nbformat_minor": 2
}
